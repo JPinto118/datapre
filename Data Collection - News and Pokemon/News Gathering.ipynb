{
 "cells": [
  {
   "cell_type": "code",
   "execution_count": 4,
   "metadata": {},
   "outputs": [],
   "source": [
    "import requests\n",
    "\n",
    "URL=\"https://edition.cnn.com/2021/03/14/politics/trump-phone-call-georgia-investigator-trash-folder/index.html\""
   ]
  },
  {
   "cell_type": "code",
   "execution_count": 5,
   "metadata": {},
   "outputs": [],
   "source": [
    "page=requests.get(URL)"
   ]
  },
  {
   "cell_type": "code",
   "execution_count": 8,
   "metadata": {},
   "outputs": [],
   "source": [
    "from bs4 import BeautifulSoup"
   ]
  },
  {
   "cell_type": "code",
   "execution_count": null,
   "metadata": {},
   "outputs": [],
   "source": [
    "soup = BeautifulSoup(page.content, 'html.parser')"
   ]
  },
  {
   "cell_type": "code",
   "execution_count": 30,
   "metadata": {},
   "outputs": [],
   "source": [
    "###metadata__byline__author"
   ]
  },
  {
   "cell_type": "code",
   "execution_count": 28,
   "metadata": {},
   "outputs": [
    {
     "name": "stdout",
     "output_type": "stream",
     "text": [
      "metadata__byline__author\n"
     ]
    }
   ],
   "source": [
    "classes = []\n",
    "for element in soup.find_all(class_=True):\n",
    "    classes.extend(element[\"class\"])\n",
    "for x in classes:\n",
    "    if x == (\"metadata__byline__author\"):\n",
    "        print (x)"
   ]
  },
  {
   "cell_type": "code",
   "execution_count": 33,
   "metadata": {},
   "outputs": [],
   "source": [
    "News_data = []\n",
    "for span in soup.findAll('span', {'class': 'value'}):\n",
    "    News_data[span.find('span').attrs['class'][0]] = span.text.strip()\n",
    "for x in News_data:\n",
    "    print (x)"
   ]
  },
  {
   "cell_type": "code",
   "execution_count": 51,
   "metadata": {},
   "outputs": [
    {
     "name": "stdout",
     "output_type": "stream",
     "text": [
      "[<span class=\"metadata__byline__author\">By Jason Morris, CNN</span>]\n"
     ]
    }
   ],
   "source": [
    "authorinfo = soup.findAll(\"span\", {\"class\": \"metadata__byline__author\"})\n",
    "print (authorinfo) "
   ]
  },
  {
   "cell_type": "code",
   "execution_count": 41,
   "metadata": {},
   "outputs": [
    {
     "name": "stdout",
     "output_type": "stream",
     "text": [
      "[<h1 class=\"pg-headline\">Officials located December recording of Trump call in a trash folder on Georgia investigator's device</h1>]\n"
     ]
    }
   ],
   "source": [
    "titleinfo = soup.findAll(\"h1\", {\"class\": \"pg-headline\"})\n",
    "print (titleinfo)"
   ]
  },
  {
   "cell_type": "code",
   "execution_count": 52,
   "metadata": {},
   "outputs": [
    {
     "name": "stdout",
     "output_type": "stream",
     "text": [
      "[<p class=\"update-time\">Updated 0244 GMT (1044 HKT) March 15, 2021 <span class=\"video__source top_source\" id=\"js-pagetop_video_source\"></span></p>]\n"
     ]
    }
   ],
   "source": [
    "timeinfo = soup.findAll(\"p\", {\"class\": \"update-time\"})\n",
    "print (timeinfo)"
   ]
  },
  {
   "cell_type": "code",
   "execution_count": 53,
   "metadata": {},
   "outputs": [],
   "source": [
    "# Get main content <div>\n",
    "article_content=soup.find(\"div\", {\"class\": \"l-container\"})\n"
   ]
  },
  {
   "cell_type": "code",
   "execution_count": null,
   "metadata": {},
   "outputs": [],
   "source": [
    "<span class=\"sc-bAeIUo ghjvgQ\">9:54 p.m. ET, March 12, 2021</span>"
   ]
  },
  {
   "cell_type": "code",
   "execution_count": 1,
   "metadata": {},
   "outputs": [],
   "source": [
    "import requests\n",
    "\n",
    "URL=\"https://edition.cnn.com/world/live-news/coronavirus-pandemic-vaccine-updates-03-12-21/index.html\""
   ]
  },
  {
   "cell_type": "code",
   "execution_count": 2,
   "metadata": {},
   "outputs": [],
   "source": [
    "page=requests.get(URL)\n",
    "from bs4 import BeautifulSoup"
   ]
  },
  {
   "cell_type": "code",
   "execution_count": 3,
   "metadata": {},
   "outputs": [],
   "source": [
    "soup = BeautifulSoup(page.content, 'html.parser')"
   ]
  },
  {
   "cell_type": "code",
   "execution_count": 27,
   "metadata": {},
   "outputs": [
    {
     "name": "stdout",
     "output_type": "stream",
     "text": [
      "9:32 p.m. ET, March 12, 2021\n"
     ]
    }
   ],
   "source": [
    "time_info = [element.text for element in soup.find_all(\"span\", \"sc-bAeIUo ghjvgQ\")]\n",
    "print (time_info[2])"
   ]
  },
  {
   "cell_type": "code",
   "execution_count": 26,
   "metadata": {},
   "outputs": [
    {
     "name": "stdout",
     "output_type": "stream",
     "text": [
      "What you need to know\n",
      "Head of largest teachers' union says educators  \"want to be back in-person with their students\"\n"
     ]
    }
   ],
   "source": [
    "###<h2 class=\"sc-gxMtzJ RIfoo\">\n",
    "title_info = [element.text for element in soup.find_all(\"h2\", \"sc-gxMtzJ RIfoo\")]\n",
    "print (title_info[2])"
   ]
  },
  {
   "cell_type": "code",
   "execution_count": 63,
   "metadata": {},
   "outputs": [
    {
     "name": "stdout",
     "output_type": "stream",
     "text": [
      "Becky Pringle, president of the National Education Association, the largest teachers' union in the country, joined CNN tonight to discuss what teachers, staff and schools around the US are doing to return to in-person learning as the grip of the coronavirus pandemic begins to loosen. \n",
      "\"All of them want nothing more than to be in-person with their students. That is how they were trained to teach and work with them, and they miss them,\" Pringle told CNN during a back-to-school special tonight. \"They want to be back in person. What we've been saying for, and now, a year, is we have been asking for the resources we need to do just that.\"\n",
      "Pringle also spoke to the countless number of teachers around the US who fear a return to in-person instruction while the pandemic persists.\n",
      "\"Each school district is making the decisions based on the guidance of the CDC, and they are being so creative to keep students safe, and make sure they implement, with fidelity, the guidelines the CDC has laid out,\" she said. \"They are doing a variety of things, hybrid measures, methods of arrival, and messages to keep educator safe.\"\n",
      "\n"
     ]
    }
   ],
   "source": [
    "###<p class=\"sc-gZMcBi render-stellar-contentstyles__Paragraph-sc-9v7nwy-2 dCwndB\">\n",
    "###<blockquote class=\"sc-dnqmqq hJIoKL\">\n",
    "article_info = [element.text for element in soup.find_all(\"p\", \"sc-gZMcBi render-stellar-contentstyles__Paragraph-sc-9v7nwy-2 dCwndB\")]\n",
    "article_info2 = [element.text for element in soup.find_all(\"blockquote\", \"sc-dnqmqq hJIoKL\")]\n",
    "print (article_info[13])\n",
    "print (article_info2[1])\n",
    "for i in range(14,17):\n",
    "    print(article_info[i])\n",
    "author_info_compilation = article_info[13] + article_info2[1] + article_info[14] + article_info[15] + article_info[16]"
   ]
  },
  {
   "cell_type": "code",
   "execution_count": 70,
   "metadata": {},
   "outputs": [
    {
     "name": "stdout",
     "output_type": "stream",
     "text": [
      "Becky Pringle, president of the National Education Association, the largest teachers' union in the country, joined CNN tonight to discuss what teachers, staff and schools around the US are doing to return to in-person learning as the grip of the coronavirus pandemic begins to loosen. \n",
      "\"All of them want nothing more than to be in-person with their students. That is how they were trained to teach and work with them, and they miss them,\" Pringle told CNN during a back-to-school special tonight. \"They want to be back in person. What we've been saying for, and now, a year, is we have been asking for the resources we need to do just that.\"\n",
      "Pringle also spoke to the countless number of teachers around the US who fear a return to in-person instruction while the pandemic persists.\n",
      "\"Each school district is making the decisions based on the guidance of the CDC, and they are being so creative to keep students safe, and make sure they implement, with fidelity, the guidelines the CDC has laid out,\" she said. \"They are doing a variety of things, hybrid measures, methods of arrival, and messages to keep educator safe.\"\n",
      "\n"
     ]
    }
   ],
   "source": [
    "import json\n",
    "article_scrape = []\n",
    "title_info = [element.text for element in soup.find_all(\"h2\", \"sc-gxMtzJ RIfoo\")]\n",
    "time_info = [element.text for element in soup.find_all(\"span\", \"sc-bAeIUo ghjvgQ\")]\n",
    "###<p class=\"sc-gZMcBi render-stellar-contentstyles__Paragraph-sc-9v7nwy-2 dCwndB\">\n",
    "###<blockquote class=\"sc-dnqmqq hJIoKL\">\n",
    "article_info = [element.text for element in soup.find_all(\"p\", \"sc-gZMcBi render-stellar-contentstyles__Paragraph-sc-9v7nwy-2 dCwndB\")]\n",
    "article_info2 = [element.text for element in soup.find_all(\"blockquote\", \"sc-dnqmqq hJIoKL\")]\n",
    "print (article_info[13])\n",
    "print (article_info2[1])\n",
    "for i in range(14,17):\n",
    "    print(article_info[i])\n",
    "article_info_compilation = article_info[13] + article_info2[1] + article_info[14] + article_info[15] + article_info[16]\n",
    "article_scrape.append({\n",
    "    \"date\": time_info[2],\n",
    "    \"title\": title_info[2],\n",
    "    \"full article\": article_info_compilation,\n",
    "    \"author\": \"CNN\",\n",
    "})\n",
    "with open('news_scape.json', 'w') as json_file:\n",
    "    json.dump(article_scrape, json_file)     "
   ]
  },
  {
   "cell_type": "code",
   "execution_count": null,
   "metadata": {},
   "outputs": [],
   "source": []
  }
 ],
 "metadata": {
  "kernelspec": {
   "display_name": "Python 3",
   "language": "python",
   "name": "python3"
  },
  "language_info": {
   "codemirror_mode": {
    "name": "ipython",
    "version": 3
   },
   "file_extension": ".py",
   "mimetype": "text/x-python",
   "name": "python",
   "nbconvert_exporter": "python",
   "pygments_lexer": "ipython3",
   "version": "3.7.6"
  }
 },
 "nbformat": 4,
 "nbformat_minor": 4
}
